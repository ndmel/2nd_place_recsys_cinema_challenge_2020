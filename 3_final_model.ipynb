{
 "cells": [
  {
   "cell_type": "code",
   "execution_count": 5,
   "metadata": {},
   "outputs": [
    {
     "name": "stdout",
     "output_type": "stream",
     "text": [
      "The autoreload extension is already loaded. To reload it, use:\n",
      "  %reload_ext autoreload\n"
     ]
    }
   ],
   "source": [
    "%load_ext autoreload\n",
    "%autoreload 2\n",
    "\n",
    "import pandas as pd\n",
    "import numpy as np\n",
    "import scipy\n",
    "import datetime\n",
    "import tqdm\n",
    "from utils import *\n",
    "import ast\n",
    "\n",
    "import lightgbm as lgb\n",
    "from hyperopt import hp, tpe\n",
    "from hyperopt.fmin import fmin\n",
    "\n",
    "from lightfm import LightFM\n",
    "from lightfm.datasets import fetch_movielens\n",
    "from lightfm.evaluation import precision_at_k, auc_score\n",
    "from lightfm.cross_validation import random_train_test_split\n",
    "\n",
    "from sklearn.model_selection import train_test_split\n",
    "from sklearn.preprocessing import LabelEncoder\n",
    "\n",
    "from matplotlib import pyplot as plt\n",
    "import seaborn as sns\n",
    "sns.set_style('whitegrid')\n",
    "\n",
    "%matplotlib inline"
   ]
  },
  {
   "cell_type": "markdown",
   "metadata": {},
   "source": [
    "**Данные просмотров каналов**"
   ]
  },
  {
   "cell_type": "code",
   "execution_count": 7,
   "metadata": {},
   "outputs": [],
   "source": [
    "df = pd.read_csv('dataset11-30.csv')\n",
    "df.start_time = pd.to_datetime(df.start_time)\n",
    "df.stop_time = pd.to_datetime(df.stop_time)"
   ]
  },
  {
   "cell_type": "markdown",
   "metadata": {},
   "source": [
    "**Данные о тв-программе**"
   ]
  },
  {
   "cell_type": "code",
   "execution_count": 8,
   "metadata": {},
   "outputs": [],
   "source": [
    "# данные из прошлого\n",
    "df_info = pd.read_csv('export_arh_11-20-final.csv').append(pd.read_csv('export_arh_21-30-final.csv'))\n",
    "df_info.start_time = pd.to_datetime(df_info.start_time, format='%d.%m.%Y %H:%M:%S')\n",
    "df_info['stop_time'] = df_info['start_time'] + pd.to_timedelta(df_info['duration'], unit='s')\n",
    "df_info = df_info[df_info.tv_show_id != 0].copy()\n",
    "\n",
    "# данные на будущее\n",
    "df_info_future = pd.read_csv('export_arh_31-42-final.csv', low_memory=False)\n",
    "df_info_future.start_time = pd.to_datetime(df_info_future.start_time, format='%d.%m.%Y %H:%M:%S')\n",
    "df_info_future['stop_time'] = df_info_future['start_time'] + pd.to_timedelta(df_info_future['duration'], unit='s')\n",
    "df_info_future = df_info_future[df_info_future.tv_show_id != 0].copy()\n",
    "\n",
    "# категориальные признаки\n",
    "for c in ['tv_show_category', 'tv_show_genre_1', 'tv_show_genre_2', 'tv_show_genre_3']:\n",
    "    df_info[c] = LabelEncoder().fit_transform(df_info[c].fillna('Nope'))"
   ]
  },
  {
   "cell_type": "markdown",
   "metadata": {},
   "source": [
    "**Данные просмотров тв-программ**"
   ]
  },
  {
   "cell_type": "code",
   "execution_count": 9,
   "metadata": {},
   "outputs": [],
   "source": [
    "df_show = pd.read_csv('dataset_with_shows.csv')\n",
    "for c in ['start_time', 'show_start_time', 'stop_time','show_stop_time']:\n",
    "    df_show[c] = pd.to_datetime(df_show[c])\n",
    "df_show['start_show_user_time'] = df_show[['show_start_time','start_time']].max(axis=1)\n",
    "df_show['stop_show_user_time'] = df_show[['stop_time','show_stop_time']].min(axis=1)\n",
    "df_show['user_watch_time'] = (df_show['stop_show_user_time'] - df_show['start_show_user_time']).dt.total_seconds()\n",
    "df_show['show_duration'] = (df_show['show_stop_time'] - df_show['show_start_time']).dt.total_seconds()\n",
    "df_show['user_watch_perc'] = df_show['user_watch_time'] / df_show['show_duration']"
   ]
  },
  {
   "cell_type": "markdown",
   "metadata": {},
   "source": [
    "**Кодирование user_id, tv_show_id для LightFM**"
   ]
  },
  {
   "cell_type": "code",
   "execution_count": 10,
   "metadata": {
    "scrolled": true
   },
   "outputs": [],
   "source": [
    "for c in ['user_id', 'tv_show_id']:\n",
    "    _temp = df_show[[c]].drop_duplicates().reset_index(drop = True)\n",
    "    _temp[f\"cont_{c}\"] = np.arange(_temp.shape[0])\n",
    "\n",
    "    df_show = df_show.merge(_temp, on = [c], how = 'left')\n",
    "    \n",
    "user_col = 'cont_user_id'\n",
    "movie_col = 'cont_tv_show_id'\n",
    "\n",
    "_temp = df_show[['tv_show_id', movie_col]].drop_duplicates()\n",
    "movies_dict = dict(zip(_temp[movie_col].values, _temp['tv_show_id'].values))\n",
    "\n",
    "_temp = df_show[['user_id', user_col]].drop_duplicates()\n",
    "users_dict = dict(zip(_temp[user_col].values, _temp['user_id'].values))"
   ]
  },
  {
   "cell_type": "markdown",
   "metadata": {},
   "source": [
    "# Проверка точности решения на holdout выборке"
   ]
  },
  {
   "cell_type": "markdown",
   "metadata": {},
   "source": [
    "**Split data to train / val**"
   ]
  },
  {
   "cell_type": "code",
   "execution_count": 11,
   "metadata": {},
   "outputs": [
    {
     "name": "stdout",
     "output_type": "stream",
     "text": [
      "(2537448, 14) (1310248, 14)\n"
     ]
    }
   ],
   "source": [
    "train_start_date = df_show.start_time.min()\n",
    "split_date = df_show.start_time.max() - datetime.timedelta(days = 9 * 7) # 9 weeks\n",
    "\n",
    "train = df_show[(df_show.start_time <= split_date) & (df_show.start_time >= train_start_date)].copy()\n",
    "df_info_train = df_info[(df_info.start_time <= split_date) & (df_info.start_time >= train_start_date)].copy()\n",
    "\n",
    "val = df_show[df_show.start_time > split_date].copy()\n",
    "df_info_val = df_info[df_info.start_time > split_date].copy()\n",
    "\n",
    "# Запоминаем какие тв-программы могут быть в валидации\n",
    "possible_movies_in_val = df_info_val.tv_show_id.unique()\n",
    "print(train.shape, val.shape)"
   ]
  },
  {
   "cell_type": "markdown",
   "metadata": {},
   "source": [
    "**Train LightFm**"
   ]
  },
  {
   "cell_type": "code",
   "execution_count": 12,
   "metadata": {},
   "outputs": [
    {
     "data": {
      "text/html": [
       "<div>\n",
       "<style scoped>\n",
       "    .dataframe tbody tr th:only-of-type {\n",
       "        vertical-align: middle;\n",
       "    }\n",
       "\n",
       "    .dataframe tbody tr th {\n",
       "        vertical-align: top;\n",
       "    }\n",
       "\n",
       "    .dataframe thead th {\n",
       "        text-align: right;\n",
       "    }\n",
       "</style>\n",
       "<table border=\"1\" class=\"dataframe\">\n",
       "  <thead>\n",
       "    <tr style=\"text-align: right;\">\n",
       "      <th></th>\n",
       "      <th>cont_tv_show_id</th>\n",
       "      <th>cont_user_id</th>\n",
       "      <th>lightfm_score</th>\n",
       "      <th>lightfm_rank</th>\n",
       "      <th>user_id</th>\n",
       "      <th>tv_show_id</th>\n",
       "    </tr>\n",
       "  </thead>\n",
       "  <tbody>\n",
       "    <tr>\n",
       "      <th>19</th>\n",
       "      <td>20</td>\n",
       "      <td>0</td>\n",
       "      <td>-1.056485</td>\n",
       "      <td>0</td>\n",
       "      <td>7981779138282146703</td>\n",
       "      <td>2400480</td>\n",
       "    </tr>\n",
       "  </tbody>\n",
       "</table>\n",
       "</div>"
      ],
      "text/plain": [
       "    cont_tv_show_id  cont_user_id  lightfm_score  lightfm_rank  \\\n",
       "19               20             0      -1.056485             0   \n",
       "\n",
       "                user_id  tv_show_id  \n",
       "19  7981779138282146703     2400480  "
      ]
     },
     "execution_count": 12,
     "metadata": {},
     "output_type": "execute_result"
    }
   ],
   "source": [
    "# sparse for lightfm\n",
    "train_sparse = df_to_sparse_interaction_matrix(train)\n",
    "\n",
    "# fit lightfm\n",
    "model = LightFM(random_state=42, loss = 'warp')\n",
    "model.fit(train_sparse, epochs=15, num_threads=4, verbose = False);\n",
    "\n",
    "#collect user biases\n",
    "user_bias_df = pd.DataFrame(model.user_biases, columns = ['user_bias_lfm'])\n",
    "user_bias_df['user_id'] = list(sorted(train[user_col].unique()))\n",
    "user_bias_df['user_id'] = user_bias_df['user_id'].apply(lambda x: users_dict.get(x))\n",
    "\n",
    "#collect item biases\n",
    "show_bias_df = pd.DataFrame(model.item_biases, columns = ['show_bias_lfm'])\n",
    "show_bias_df['tv_show_id'] = list(sorted(train[movie_col].unique()))\n",
    "show_bias_df['tv_show_id'] = show_bias_df['tv_show_id'].apply(lambda x: movies_dict.get(x))\n",
    "\n",
    "# предскажем топ N актуальных программ для каждого пользователя из train\n",
    "train_users = sorted(train[user_col].unique())\n",
    "\n",
    "# можем прогнозировать только фильмы которые точно будут в таргете\n",
    "train_movies = sorted(train[train['tv_show_id'].isin(possible_movies_in_val)][movie_col].unique())\n",
    "\n",
    "get_n = 200\n",
    "lightfm_predictions_df = pd.DataFrame()\n",
    "for train_user in train_users:\n",
    "    \n",
    "    all_movies_df = pd.DataFrame(train_movies, columns = [movie_col])\n",
    "    all_movies_df[user_col] = train_user\n",
    "    all_movies_df['lightfm_score'] = model.predict(train_user, train_movies)\n",
    "    all_movies_df.sort_values('lightfm_score', ascending = False, inplace = True)\n",
    "    all_movies_df['lightfm_rank'] = np.arange(all_movies_df.shape[0])\n",
    "    \n",
    "    lightfm_predictions_df = lightfm_predictions_df.append(all_movies_df.head(get_n))\n",
    "    \n",
    "lightfm_predictions_df['user_id'] = lightfm_predictions_df[user_col].map(lambda x: users_dict.get(x))\n",
    "lightfm_predictions_df['tv_show_id'] = lightfm_predictions_df[movie_col].map(lambda x: movies_dict.get(x))\n",
    "lightfm_predictions_df.head(1)"
   ]
  },
  {
   "cell_type": "markdown",
   "metadata": {},
   "source": [
    "**Выбор N фильмов для пользователя на основе просмотров и результатов LightFm**"
   ]
  },
  {
   "cell_type": "code",
   "execution_count": 13,
   "metadata": {},
   "outputs": [
    {
     "name": "stdout",
     "output_type": "stream",
     "text": [
      "(165997, 3) (120146, 3)\n"
     ]
    }
   ],
   "source": [
    "get_n = 200\n",
    "train_base = train[train['tv_show_id'].isin(possible_movies_in_val)].copy()\n",
    "val_base = val.copy()\n",
    "train = get_features(train_base, get_n)\n",
    "val = get_target(val_base, get_n)\n",
    "overal_val = get_target(val_base, 10000)\n",
    "print(train.shape, val.shape)"
   ]
  },
  {
   "cell_type": "markdown",
   "metadata": {},
   "source": [
    "**Добавить LightFm как доп строки**"
   ]
  },
  {
   "cell_type": "code",
   "execution_count": 14,
   "metadata": {},
   "outputs": [],
   "source": [
    "# если неполные рекомендации (пользователь смотрел < get_n) то добавим рекомендации из lightfm\n",
    "train_w_lfm = train.copy()\n",
    "for user, group in train.groupby(['user_id']):\n",
    "    \n",
    "    if group.shape[0] < get_n:\n",
    "        \n",
    "        need_to_add = get_n - group.shape[0]\n",
    "        add_tv_show_ids_from_lightfm = lightfm_predictions_df[\n",
    "            (lightfm_predictions_df.user_id == user)&\n",
    "            (~lightfm_predictions_df.tv_show_id.isin(group.tv_show_id.unique()))]\\\n",
    "            .tv_show_id.values[:need_to_add]\n",
    "        \n",
    "        add_df = pd.DataFrame(add_tv_show_ids_from_lightfm, columns = ['tv_show_id'])\n",
    "        add_df['user_id'] = user\n",
    "        add_df['user_show_freq'] = 0\n",
    "        add_df['user_id'] = add_df['user_id'].astype('uint64')\n",
    "        \n",
    "        train_w_lfm = train_w_lfm.append(add_df[['user_id', 'tv_show_id', 'user_show_freq']])\n",
    "        \n",
    "assert train.user_id.nunique() == train_w_lfm.user_id.nunique()\n",
    "assert train_w_lfm.groupby(['user_id']).size().min() == get_n\n",
    "\n",
    "train_w_lfm = train_w_lfm.merge(lightfm_predictions_df[['user_id', 'tv_show_id', 'lightfm_score']],\n",
    "            on = ['user_id', 'tv_show_id'], how = 'left')\n",
    "\n",
    "# combined train\n",
    "train = train_w_lfm.copy()\n",
    "train.reset_index(inplace = True, drop = True)"
   ]
  },
  {
   "cell_type": "markdown",
   "metadata": {},
   "source": [
    "**Добавить таргет**"
   ]
  },
  {
   "cell_type": "code",
   "execution_count": 15,
   "metadata": {
    "scrolled": true
   },
   "outputs": [
    {
     "name": "stdout",
     "output_type": "stream",
     "text": [
      "Target distribution:\n"
     ]
    },
    {
     "data": {
      "text/plain": [
       "0.0    907107\n",
       "1.0     50493\n",
       "Name: seen, dtype: int64"
      ]
     },
     "execution_count": 15,
     "metadata": {},
     "output_type": "execute_result"
    }
   ],
   "source": [
    "# create target from tv programs that user actually saw in the next 9 weeks\n",
    "target_col = 'seen'\n",
    "train = train.merge(overal_val.drop(['user_show_freq'], 1).assign(seen=1), on = ['user_id', 'tv_show_id'], how = 'left')\n",
    "train[target_col].fillna(0, inplace = True)\n",
    "print('Target distribution:')\n",
    "train[target_col].value_counts()"
   ]
  },
  {
   "cell_type": "markdown",
   "metadata": {},
   "source": [
    "**Добавить признаки**"
   ]
  },
  {
   "cell_type": "code",
   "execution_count": 16,
   "metadata": {},
   "outputs": [],
   "source": [
    "# Удаляем тв-программы которые смотрело менее 10ти пользователей\n",
    "shows_watches = train_base[train_base['user_watch_perc'] >= 0.8].groupby(['tv_show_id']).size().reset_index().rename(columns = {0:'show_watched'})\n",
    "min_watch = 10\n",
    "shows_watches = shows_watches[shows_watches['show_watched'] > min_watch].copy()\n",
    "possible_movies_that_matter = shows_watches.tv_show_id.unique()\n",
    "train = train[train.tv_show_id.isin(possible_movies_that_matter)].copy()\n",
    "train.reset_index(inplace = True, drop = True)"
   ]
  },
  {
   "cell_type": "code",
   "execution_count": 17,
   "metadata": {
    "scrolled": true
   },
   "outputs": [],
   "source": [
    "# собираем признаки\n",
    "train = prepare_features(train, df_info_train, df_info_val, train_base)\n",
    "train = train.merge(user_bias_df, on = ['user_id'], how = 'left')\n",
    "train = train.merge(show_bias_df, on = ['tv_show_id'], how = 'left')"
   ]
  },
  {
   "cell_type": "markdown",
   "metadata": {},
   "source": [
    "**Валидация модели**"
   ]
  },
  {
   "cell_type": "code",
   "execution_count": 18,
   "metadata": {
    "scrolled": true
   },
   "outputs": [
    {
     "name": "stdout",
     "output_type": "stream",
     "text": [
      "(674755, 28) (224704, 28)\n",
      "Features: ['user_show_freq', 'lightfm_score', 'user_show_rank', 'user_lfm_rank', 'combined_rank', 'channel_id', 'tv_show_category', 'tv_show_genre_1', 'tv_show_genre_2', 'tv_show_genre_3', 'user_show_freq_0.3', 'user_show_freq_0.8', 'alt_user_show_freq_0.3', 'alt_user_show_freq_0.5', 'alt_user_show_freq_0.8', 'user_show_freq_dif_week_1', 'user_show_rank_week_1', 'user_show_rank_mean_week_1', 'alt_user_show_freq_dif_week_1', 'alt_user_show_rank_mean_week_1', 'user_channel_count', 'group_user_show_freq', 'user_show_freq_rel_group', 'tot_show_duration', 'tot_show_duration_future', 'popularity_drop', 'user_bias_lfm', 'show_bias_lfm']\n"
     ]
    }
   ],
   "source": [
    "cat_columns = ['tv_show_category', 'tv_show_genre_1', 'tv_show_genre_2', 'tv_show_genre_3']\n",
    "users_train, users_test = train_test_split(train.user_id.unique(), random_state = 42)\n",
    "\n",
    "X_train = train[train.user_id.isin(users_train)].copy()\n",
    "X_test = train[train.user_id.isin(users_test)].copy()\n",
    "y_train = X_train.pop(target_col)\n",
    "y_test = X_test.pop(target_col)\n",
    "\n",
    "X_train = X_train.set_index([\"user_id\", \"tv_show_id\"])\n",
    "X_test = X_test.set_index([\"user_id\", \"tv_show_id\"])\n",
    "print(X_train.shape, X_test.shape)\n",
    "print('Features:', list(X_train.columns))"
   ]
  },
  {
   "cell_type": "code",
   "execution_count": 20,
   "metadata": {
    "scrolled": true
   },
   "outputs": [
    {
     "name": "stderr",
     "output_type": "stream",
     "text": [
      "C:\\ProgramData\\Anaconda3\\lib\\site-packages\\lightgbm\\basic.py:1295: UserWarning: categorical_feature in Dataset is overridden.\n",
      "New categorical_feature is ['tv_show_category', 'tv_show_genre_1', 'tv_show_genre_2', 'tv_show_genre_3']\n",
      "  'New categorical_feature is {}'.format(sorted(list(categorical_feature))))\n"
     ]
    },
    {
     "name": "stdout",
     "output_type": "stream",
     "text": [
      "Training until validation scores don't improve for 15 rounds\n",
      "[100]\ttrain's auc: 0.898364\tvalid's auc: 0.89204\n",
      "[200]\ttrain's auc: 0.90727\tvalid's auc: 0.897362\n",
      "[300]\ttrain's auc: 0.913842\tvalid's auc: 0.900626\n",
      "[400]\ttrain's auc: 0.918984\tvalid's auc: 0.902516\n",
      "[500]\ttrain's auc: 0.923415\tvalid's auc: 0.903653\n",
      "[600]\ttrain's auc: 0.927714\tvalid's auc: 0.904065\n",
      "Early stopping, best iteration is:\n",
      "[588]\ttrain's auc: 0.927074\tvalid's auc: 0.904125\n"
     ]
    }
   ],
   "source": [
    "train_data = lgb.Dataset(X_train, y_train)\n",
    "test_data = lgb.Dataset(X_test, y_test)\n",
    "\n",
    "param = {\n",
    "    'task': 'train',\n",
    "    'objective': 'binary', \n",
    "    'metric': 'auc',\n",
    "    'bagging_fraction': 0.8, \n",
    "    'bagging_freq': 4, \n",
    "    'colsample_bytree': '0.6', \n",
    "    'feature_fraction': 0.75, \n",
    "    'learning_rate': 0.01,\n",
    "    'metric': 'auc',\n",
    "    'min_data_in_leaf': 20, \n",
    "    'num_leaves': 150, \n",
    "    'num_threads': 4,\n",
    "    'reg_alpha': 0.4,\n",
    "    'reg_lambda': 0.32, \n",
    "    'seed': 42,\n",
    "}\n",
    "\n",
    "res = {}\n",
    "bst = lgb.train(\n",
    "    param, train_data, \n",
    "    valid_sets=[train_data, test_data], \n",
    "    valid_names=[\"train\", \"valid\"],\n",
    "    categorical_feature = cat_columns,\n",
    "    num_boost_round=10000, evals_result=res, \n",
    "    verbose_eval=100, early_stopping_rounds=15)"
   ]
  },
  {
   "cell_type": "code",
   "execution_count": 21,
   "metadata": {},
   "outputs": [
    {
     "name": "stdout",
     "output_type": "stream",
     "text": [
      "Model MAP@5 = 0.35318\n",
      "Baseline MAP@5 = 0.31975\n"
     ]
    }
   ],
   "source": [
    "X_test[\"lgb_score\"] = bst.predict(X_test, num_iteration=bst.best_iteration)\n",
    "lgb_res = X_test.reset_index([0, 1])[[\"user_id\",\n",
    "                                        \"tv_show_id\",\n",
    "                                        \"lgb_score\"]].sort_values(\"lgb_score\",\n",
    "                                                                  ascending=False)\n",
    "\n",
    "preds = []\n",
    "trues = []\n",
    "for user, group in lgb_res.groupby(\"user_id\"):\n",
    "    predict_n_movies = list(group.tv_show_id)[:5]\n",
    "    actual_n_movies = val[val.user_id == user]['tv_show_id'].values[:5]\n",
    "    \n",
    "    preds.append(list(predict_n_movies))\n",
    "    trues.append(list(actual_n_movies))\n",
    "    \n",
    "score = np.round(mapk(trues, preds, k = 5), 5)\n",
    "print(f'Model MAP@{5} = {score}')\n",
    "\n",
    "# reference (baseline)\n",
    "preds = []\n",
    "trues = []\n",
    "for user, group in lgb_res.groupby(\"user_id\"):\n",
    "    predict_n_movies = train[train.user_id == user]['tv_show_id'].values[:5]\n",
    "    actual_n_movies = val[val.user_id == user]['tv_show_id'].values[:5]\n",
    "    \n",
    "    preds.append(list(predict_n_movies))\n",
    "    trues.append(list(actual_n_movies))\n",
    "    \n",
    "score = np.round(mapk(trues, preds, k = 5), 5)\n",
    "print(f'Baseline MAP@{5} = {score}')"
   ]
  },
  {
   "cell_type": "code",
   "execution_count": 22,
   "metadata": {},
   "outputs": [
    {
     "data": {
      "image/png": "[encoded data removed]",
      "text/plain": [
       "<Figure size 1080x720 with 1 Axes>"
      ]
     },
     "metadata": {
      "needs_background": "light"
     },
     "output_type": "display_data"
    }
   ],
   "source": [
    "lgb.plot_importance(bst, figsize = (15, 10));"
   ]
  },
  {
   "cell_type": "markdown",
   "metadata": {},
   "source": [
    "# Обучение финальной модели"
   ]
  },
  {
   "cell_type": "code",
   "execution_count": 23,
   "metadata": {},
   "outputs": [],
   "source": [
    "# Full Train\n",
    "X_train = train.copy()\n",
    "y_train = X_train.pop(target_col)\n",
    "\n",
    "X_train = X_train.set_index([\"user_id\", \"tv_show_id\"])\n",
    "train_data = lgb.Dataset(X_train, y_train)\n",
    "\n",
    "final_model = lgb.train(\n",
    "    param, train_data, \n",
    "    categorical_feature = cat_columns,\n",
    "    num_boost_round=bst.best_iteration+100, verbose_eval=False)\n",
    "\n",
    "# final_model.save_model('tuned_.txt')"
   ]
  },
  {
   "cell_type": "markdown",
   "metadata": {},
   "source": [
    "# Сбор финальных данных и прогноз submission"
   ]
  },
  {
   "cell_type": "markdown",
   "metadata": {},
   "source": [
    "**Обновляем обученную Lightfm модель, теперь со всеми данными**"
   ]
  },
  {
   "cell_type": "code",
   "execution_count": 25,
   "metadata": {
    "scrolled": true
   },
   "outputs": [
    {
     "data": {
      "text/html": [
       "<div>\n",
       "<style scoped>\n",
       "    .dataframe tbody tr th:only-of-type {\n",
       "        vertical-align: middle;\n",
       "    }\n",
       "\n",
       "    .dataframe tbody tr th {\n",
       "        vertical-align: top;\n",
       "    }\n",
       "\n",
       "    .dataframe thead th {\n",
       "        text-align: right;\n",
       "    }\n",
       "</style>\n",
       "<table border=\"1\" class=\"dataframe\">\n",
       "  <thead>\n",
       "    <tr style=\"text-align: right;\">\n",
       "      <th></th>\n",
       "      <th>cont_tv_show_id</th>\n",
       "      <th>cont_user_id</th>\n",
       "      <th>lightfm_score</th>\n",
       "      <th>lightfm_rank</th>\n",
       "      <th>user_id</th>\n",
       "      <th>tv_show_id</th>\n",
       "    </tr>\n",
       "  </thead>\n",
       "  <tbody>\n",
       "    <tr>\n",
       "      <th>20</th>\n",
       "      <td>20</td>\n",
       "      <td>0</td>\n",
       "      <td>-2.007087</td>\n",
       "      <td>0</td>\n",
       "      <td>7981779138282146703</td>\n",
       "      <td>2400480</td>\n",
       "    </tr>\n",
       "  </tbody>\n",
       "</table>\n",
       "</div>"
      ],
      "text/plain": [
       "    cont_tv_show_id  cont_user_id  lightfm_score  lightfm_rank  \\\n",
       "20               20             0      -2.007087             0   \n",
       "\n",
       "                user_id  tv_show_id  \n",
       "20  7981779138282146703     2400480  "
      ]
     },
     "execution_count": 25,
     "metadata": {},
     "output_type": "execute_result"
    }
   ],
   "source": [
    "# sparse for lightfm\n",
    "df_sparse = df_to_sparse_interaction_matrix(df_show)\n",
    "\n",
    "# fit lightfm\n",
    "lfm_final_model = LightFM(random_state=42, loss = 'warp')\n",
    "lfm_final_model.fit(df_sparse, epochs=15, num_threads=4, verbose = False);\n",
    "\n",
    "# предскажем топ N актуальных программ для каждого пользователя из train\n",
    "train_users = sorted(df_show[user_col].unique())\n",
    "\n",
    "# можем прогнозировать только фильмы которые точно будут в таргете\n",
    "train_movies = sorted(df_show[df_show.tv_show_id.isin(df_info_future['tv_show_id'].unique())][movie_col].unique())\n",
    "\n",
    "#collect user biases\n",
    "df_user_bias_df = pd.DataFrame(lfm_final_model.user_biases, columns = ['user_bias_lfm'])\n",
    "df_user_bias_df['user_id'] = list(sorted(df_show[user_col].unique()))\n",
    "df_user_bias_df['user_id'] = df_user_bias_df['user_id'].apply(lambda x: users_dict.get(x))\n",
    "\n",
    "#collect item biases\n",
    "df_show_bias_df = pd.DataFrame(lfm_final_model.item_biases, columns = ['show_bias_lfm'])\n",
    "df_show_bias_df['tv_show_id'] = list(sorted(df_show[movie_col].unique()))\n",
    "df_show_bias_df['tv_show_id'] = df_show_bias_df['tv_show_id'].apply(lambda x: movies_dict.get(x))\n",
    "\n",
    "# соберем рекомендации Lightfm для всех пользователей в трейне\n",
    "get_n = 200\n",
    "df_lightfm_predictions_df = pd.DataFrame()\n",
    "for train_user in train_users:\n",
    "    \n",
    "    all_movies_df = pd.DataFrame(train_movies, columns = [movie_col])\n",
    "    all_movies_df[user_col] = train_user\n",
    "    all_movies_df['lightfm_score'] = lfm_final_model.predict(train_user, train_movies)\n",
    "    all_movies_df.sort_values('lightfm_score', ascending = False, inplace = True)\n",
    "    all_movies_df['lightfm_rank'] = np.arange(all_movies_df.shape[0])\n",
    "    \n",
    "    df_lightfm_predictions_df = df_lightfm_predictions_df.append(all_movies_df.head(get_n), sort = False)\n",
    "    \n",
    "df_lightfm_predictions_df['user_id'] = df_lightfm_predictions_df[user_col].map(lambda x: users_dict.get(x))\n",
    "df_lightfm_predictions_df['tv_show_id'] = df_lightfm_predictions_df[movie_col].map(lambda x: movies_dict.get(x))\n",
    "assert df_lightfm_predictions_df.user_id.nunique() == len(train_users)\n",
    "df_lightfm_predictions_df.head(1)"
   ]
  },
  {
   "cell_type": "markdown",
   "metadata": {},
   "source": [
    "**Собираем базовые признаки, обогащаем рекомендациями из LightFM**"
   ]
  },
  {
   "cell_type": "code",
   "execution_count": 27,
   "metadata": {},
   "outputs": [
    {
     "name": "stdout",
     "output_type": "stream",
     "text": [
      "(3847696, 14)\n"
     ]
    }
   ],
   "source": [
    "# Базовые рекомендации - по топам просмотров\n",
    "print(df_show.shape)\n",
    "get_n = 200\n",
    "\n",
    "possible_test_movies = df_info_future['tv_show_id'].unique()\n",
    "df_show_base = df_show[df_show['tv_show_id'].isin(possible_test_movies)].copy()\n",
    "df_show_train = get_features(df_show_base, get_n)\n",
    "overall_top_movies = df_show_train.groupby(['tv_show_id'], as_index = False)['user_show_freq'].sum().sort_values(['user_show_freq'])['tv_show_id'][-5:].values[::-1]\n"
   ]
  },
  {
   "cell_type": "code",
   "execution_count": 28,
   "metadata": {},
   "outputs": [],
   "source": [
    "# если неполные рекомендации (пользователь смотрел < get_n) то добавим рекомендации из lightfm\n",
    "df_train_w_lfm = df_show_train.copy()\n",
    "for user, group in df_show_train.groupby(['user_id']):\n",
    "    \n",
    "    if group.shape[0] < get_n:\n",
    "        \n",
    "        need_to_add = get_n - group.shape[0]\n",
    "        add_tv_show_ids_from_lightfm = df_lightfm_predictions_df[\n",
    "            (df_lightfm_predictions_df.user_id == user)&\n",
    "            (~df_lightfm_predictions_df.tv_show_id.isin(group.tv_show_id.unique()))]\\\n",
    "            .tv_show_id.values[:need_to_add]\n",
    "        \n",
    "        add_df = pd.DataFrame(add_tv_show_ids_from_lightfm, columns = ['tv_show_id'])\n",
    "        add_df['user_id'] = user\n",
    "        add_df['user_show_freq'] = 0\n",
    "        add_df['user_id'] = add_df['user_id'].astype('uint64')\n",
    "        \n",
    "        df_train_w_lfm = df_train_w_lfm.append(add_df[['user_id', 'tv_show_id', 'user_show_freq']])\n",
    "        \n",
    "assert df_show_train.user_id.nunique() == df_train_w_lfm.user_id.nunique()\n",
    "assert df_train_w_lfm.groupby(['user_id']).size().min() == get_n\n",
    "\n",
    "df_train_w_lfm = df_train_w_lfm.merge(df_lightfm_predictions_df[['user_id', 'tv_show_id', 'lightfm_score']],\n",
    "            on = ['user_id', 'tv_show_id'], how = 'left')\n",
    "\n",
    "# combined train\n",
    "df_show_train = df_train_w_lfm.copy()\n",
    "df_show_train.reset_index(inplace = True, drop = True)"
   ]
  },
  {
   "cell_type": "markdown",
   "metadata": {},
   "source": [
    "**Пост-обработка и добавление признаков**"
   ]
  },
  {
   "cell_type": "code",
   "execution_count": 29,
   "metadata": {
    "scrolled": false
   },
   "outputs": [
    {
     "name": "stdout",
     "output_type": "stream",
     "text": [
      "(946344, 30)\n"
     ]
    }
   ],
   "source": [
    "# remove low-count movies\n",
    "shows_watches = df_show_base[df_show_base['user_watch_perc'] >= 0.8].groupby(['tv_show_id']).size().reset_index().rename(columns = {0:'show_watched'})\n",
    "min_watch = 10\n",
    "shows_watches = shows_watches[shows_watches['show_watched'] > 10].copy()\n",
    "possible_movies_that_matter = shows_watches.tv_show_id.unique()\n",
    "df_show_train = df_show_train[df_show_train.tv_show_id.isin(possible_movies_that_matter)].copy()\n",
    "df_show_train.reset_index(inplace = True, drop = True)\n",
    "\n",
    "# collect features\n",
    "df_show_train = prepare_features(df_show_train, df_info, df_info_future, df_show_base)\n",
    "df_show_train = df_show_train.merge(df_user_bias_df, on = ['user_id'], how = 'left')\n",
    "df_show_train = df_show_train.merge(df_show_bias_df, on = ['tv_show_id'], how = 'left')\n",
    "print(df_show_train.shape)"
   ]
  },
  {
   "cell_type": "markdown",
   "metadata": {},
   "source": [
    "**Предсказание submission**"
   ]
  },
  {
   "cell_type": "code",
   "execution_count": 31,
   "metadata": {
    "scrolled": true
   },
   "outputs": [],
   "source": [
    "# predict rank score\n",
    "X_predict = df_show_train.copy()\n",
    "X_predict = X_predict.set_index([\"user_id\", \"tv_show_id\"])[X_train.columns]\n",
    "X_predict[\"lgb_score\"] = final_model.predict(X_predict, num_iteration=bst.best_iteration)"
   ]
  },
  {
   "cell_type": "code",
   "execution_count": 32,
   "metadata": {},
   "outputs": [],
   "source": [
    "pred_res = X_predict.reset_index([0, 1])[[\"user_id\",\n",
    "                                        \"tv_show_id\",\n",
    "                                        \"lgb_score\"]].sort_values(\"lgb_score\",\n",
    "                                                                  ascending=False)"
   ]
  },
  {
   "cell_type": "code",
   "execution_count": 34,
   "metadata": {},
   "outputs": [
    {
     "data": {
      "text/html": [
       "<div>\n",
       "<style scoped>\n",
       "    .dataframe tbody tr th:only-of-type {\n",
       "        vertical-align: middle;\n",
       "    }\n",
       "\n",
       "    .dataframe tbody tr th {\n",
       "        vertical-align: top;\n",
       "    }\n",
       "\n",
       "    .dataframe thead th {\n",
       "        text-align: right;\n",
       "    }\n",
       "</style>\n",
       "<table border=\"1\" class=\"dataframe\">\n",
       "  <thead>\n",
       "    <tr style=\"text-align: right;\">\n",
       "      <th></th>\n",
       "      <th>user_id</th>\n",
       "      <th>tv_show_id</th>\n",
       "    </tr>\n",
       "  </thead>\n",
       "  <tbody>\n",
       "    <tr>\n",
       "      <th>0</th>\n",
       "      <td>8377619604347126107</td>\n",
       "      <td>240081 2400480 2400508 20088 2400467</td>\n",
       "    </tr>\n",
       "    <tr>\n",
       "      <th>1</th>\n",
       "      <td>8381667675275833309</td>\n",
       "      <td>2400480 240081 6700482 12001682 2400467</td>\n",
       "    </tr>\n",
       "    <tr>\n",
       "      <th>2</th>\n",
       "      <td>8387147770138767246</td>\n",
       "      <td>12001682 12002856 12001732 12002355 12002955</td>\n",
       "    </tr>\n",
       "    <tr>\n",
       "      <th>3</th>\n",
       "      <td>8397181578236218580</td>\n",
       "      <td>240081 2400480 20088 2400467 6700482</td>\n",
       "    </tr>\n",
       "    <tr>\n",
       "      <th>4</th>\n",
       "      <td>8404698046253197367</td>\n",
       "      <td>2400480 240081 20088 200432 6200371</td>\n",
       "    </tr>\n",
       "  </tbody>\n",
       "</table>\n",
       "</div>"
      ],
      "text/plain": [
       "               user_id                                    tv_show_id\n",
       "0  8377619604347126107          240081 2400480 2400508 20088 2400467\n",
       "1  8381667675275833309       2400480 240081 6700482 12001682 2400467\n",
       "2  8387147770138767246  12001682 12002856 12001732 12002355 12002955\n",
       "3  8397181578236218580          240081 2400480 20088 2400467 6700482\n",
       "4  8404698046253197367           2400480 240081 20088 200432 6200371"
      ]
     },
     "execution_count": 34,
     "metadata": {},
     "output_type": "execute_result"
    }
   ],
   "source": [
    "# create submission\n",
    "submission_df = pd.read_csv('submission.csv')\n",
    "for index_row, row in submission_df.iterrows():\n",
    "    pred_n_movies = list(pred_res[pred_res.user_id == row['user_id']]['tv_show_id'].values[:5])\n",
    "    \n",
    "    if len(pred_n_movies) < 5:\n",
    "        pred_n_movies = list(pred_n_movies[:len(pred_n_movies)]) + list(overall_top_movies[:5 - len(pred_n_movies)])\n",
    "    \n",
    "    pred = ' '.join([str(int(x)) for x in pred_n_movies])\n",
    "    submission_df.loc[index_row, 'tv_show_id'] = pred\n",
    "    \n",
    "submission_df.to_csv('results/lfm_lgb6_submission.csv', index = False)\n",
    "submission_df.head()"
   ]
  },
  {
   "cell_type": "code",
   "execution_count": null,
   "metadata": {},
   "outputs": [],
   "source": []
  }
 ],
 "metadata": {
  "kernelspec": {
   "display_name": "Python 3",
   "language": "python",
   "name": "python3"
  },
  "language_info": {
   "codemirror_mode": {
    "name": "ipython",
    "version": 3
   },
   "file_extension": ".py",
   "mimetype": "text/x-python",
   "name": "python",
   "nbconvert_exporter": "python",
   "pygments_lexer": "ipython3",
   "version": "3.7.6"
  }
 },
 "nbformat": 4,
 "nbformat_minor": 4
}
