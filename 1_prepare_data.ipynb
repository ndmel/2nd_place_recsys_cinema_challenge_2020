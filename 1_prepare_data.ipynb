{
 "cells": [
  {
   "cell_type": "code",
   "execution_count": 2,
   "metadata": {},
   "outputs": [],
   "source": [
    "import pandas as pd\n",
    "import numpy as np\n",
    "import scipy\n",
    "import datetime\n",
    "import tqdm"
   ]
  },
  {
   "cell_type": "markdown",
   "metadata": {},
   "source": [
    "**Данные о просмотрах каналов**"
   ]
  },
  {
   "cell_type": "code",
   "execution_count": 2,
   "metadata": {},
   "outputs": [],
   "source": [
    "df = pd.read_csv('dataset11-30.csv')\n",
    "df.start_time = pd.to_datetime(df.start_time)\n",
    "df.stop_time = pd.to_datetime(df.stop_time)"
   ]
  },
  {
   "cell_type": "markdown",
   "metadata": {},
   "source": [
    "**Данные о расписании ТВ-передач**"
   ]
  },
  {
   "cell_type": "code",
   "execution_count": 15,
   "metadata": {},
   "outputs": [],
   "source": [
    "df_info = pd.read_csv('export_arh_11-20-final.csv').append(pd.read_csv('export_arh_21-30-final.csv'))\n",
    "df_info.start_time = pd.to_datetime(df_info.start_time, format='%d.%m.%Y %H:%M:%S')\n",
    "df_info['stop_time'] = df_info['start_time'] + pd.to_timedelta(df_info['duration'], unit='s')\n",
    "df_info = df_info[df_info.tv_show_id != 0].copy()"
   ]
  },
  {
   "cell_type": "markdown",
   "metadata": {},
   "source": [
    "**Оценка данных**"
   ]
  },
  {
   "cell_type": "code",
   "execution_count": 16,
   "metadata": {},
   "outputs": [
    {
     "name": "stdout",
     "output_type": "stream",
     "text": [
      "Количество пользователей: 4914\n",
      "Количество каналов: 202\n",
      "Количество ТВ программ: 8235\n",
      "Даты данных: 2020-03-09 00:00:02 2020-07-26 23:58:42\n",
      "Даты данных info: 2020-03-08 23:00:00 2020-07-27 11:55:00\n"
     ]
    }
   ],
   "source": [
    "print('Количество пользователей:', df.user_id.nunique())\n",
    "print('Количество каналов:', df.vsetv_id.nunique())\n",
    "print('Количество ТВ программ:', df_info.tv_show_id.nunique())\n",
    "print('Даты данных:', df.start_time.min(), df.start_time.max())\n",
    "print('Даты данных info:', df_info.start_time.min(), df_info.start_time.max())"
   ]
  },
  {
   "cell_type": "markdown",
   "metadata": {},
   "source": [
    "**Алгоритм сбора данных о просмотрах ТВ-передач**"
   ]
  },
  {
   "cell_type": "code",
   "execution_count": 1,
   "metadata": {},
   "outputs": [],
   "source": [
    "show_lines = []\n",
    "for i, row in tqdm.tqdm(df.iterrows(), total = df.shape[0]):\n",
    "    \n",
    "    user_id = row['user_id']\n",
    "    vsetv_id = row['vsetv_id']\n",
    "    start_time = row['start_time']\n",
    "    stop_time = row['stop_time']\n",
    "    \n",
    "    # Для каждой сессии пользователя найдем те передачи, которые шли на канале, который он смотрел\n",
    "    shows_rememver_df = df_info[(df_info.channel_id == vsetv_id) \n",
    "                    & (df_info.start_time < stop_time) \n",
    "                    & (df_info.stop_time > start_time)][['tv_show_id', 'start_time', 'stop_time']].copy()\n",
    "    \n",
    "    # Запомним какие передачи просмотрел пользователь\n",
    "    for j, row_j in shows_rememver_df.iterrows():\n",
    "        show_lines.append([user_id, vsetv_id, start_time, stop_time, row_j['tv_show_id'], row_j['start_time'], row_j['stop_time']])\n",
    "        \n",
    "show_lines_df = pd.DataFrame(show_lines,columns = ['user_id', 'vsetv_id', 'start_time', 'stop_time', 'tv_show_id', 'show_start_time', 'show_stop_time'])\n",
    "show_lines_df.to_csv('dataset_with_shows.csv', index = False)"
   ]
  }
 ],
 "metadata": {
  "kernelspec": {
   "display_name": "Python 3",
   "language": "python",
   "name": "python3"
  },
  "language_info": {
   "codemirror_mode": {
    "name": "ipython",
    "version": 3
   },
   "file_extension": ".py",
   "mimetype": "text/x-python",
   "name": "python",
   "nbconvert_exporter": "python",
   "pygments_lexer": "ipython3",
   "version": "3.7.6"
  }
 },
 "nbformat": 4,
 "nbformat_minor": 2
}
