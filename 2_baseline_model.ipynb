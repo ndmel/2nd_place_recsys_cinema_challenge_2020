{
 "cells": [
  {
   "cell_type": "code",
   "execution_count": 2,
   "metadata": {},
   "outputs": [
    {
     "name": "stdout",
     "output_type": "stream",
     "text": [
      "The autoreload extension is already loaded. To reload it, use:\n",
      "  %reload_ext autoreload\n"
     ]
    }
   ],
   "source": [
    "%load_ext autoreload\n",
    "%autoreload 2\n",
    "\n",
    "import pandas as pd\n",
    "import numpy as np\n",
    "import scipy\n",
    "import datetime\n",
    "import tqdm\n",
    "from utils import *"
   ]
  },
  {
   "cell_type": "markdown",
   "metadata": {},
   "source": [
    "**Данные о просмотрах каналов**"
   ]
  },
  {
   "cell_type": "code",
   "execution_count": 4,
   "metadata": {},
   "outputs": [],
   "source": [
    "df = pd.read_csv('dataset11-30.csv')\n",
    "df.start_time = pd.to_datetime(df.start_time)\n",
    "df.stop_time = pd.to_datetime(df.stop_time)"
   ]
  },
  {
   "cell_type": "markdown",
   "metadata": {},
   "source": [
    "**Данные о тв-передачах**"
   ]
  },
  {
   "cell_type": "code",
   "execution_count": 3,
   "metadata": {},
   "outputs": [],
   "source": [
    "df_info = pd.read_csv('export_arh_11-20-final.csv').append(pd.read_csv('export_arh_21-30-final.csv'))\n",
    "df_info.start_time = pd.to_datetime(df_info.start_time, format='%d.%m.%Y %H:%M:%S')\n",
    "df_info['stop_time'] = df_info['start_time'] + pd.to_timedelta(df_info['duration'], unit='s')\n",
    "df_info = df_info[df_info.tv_show_id != 0].copy()\n",
    "df_info_future = pd.read_csv('export_arh_31-42-final.csv', low_memory=False)"
   ]
  },
  {
   "cell_type": "markdown",
   "metadata": {},
   "source": [
    "**Данные о просмотрах тв-передач**"
   ]
  },
  {
   "cell_type": "code",
   "execution_count": 12,
   "metadata": {},
   "outputs": [],
   "source": [
    "df_show = pd.read_csv('dataset_with_shows.csv')\n",
    "for c in ['start_time', 'show_start_time', 'stop_time','show_stop_time']:\n",
    "    df_show[c] = pd.to_datetime(df_show[c])\n",
    "df_show['start_show_user_time'] = df_show[['show_start_time','start_time']].max(axis=1)\n",
    "df_show['stop_show_user_time'] = df_show[['stop_time','show_stop_time']].min(axis=1)\n",
    "df_show['user_watch_time'] = (df_show['stop_show_user_time'] - df_show['start_show_user_time']).dt.total_seconds()\n",
    "df_show['show_duration'] = (df_show['show_stop_time'] - df_show['show_start_time']).dt.total_seconds()\n",
    "df_show['user_watch_perc'] = df_show['user_watch_time'] / df_show['show_duration']"
   ]
  },
  {
   "cell_type": "markdown",
   "metadata": {},
   "source": [
    "**Holdout по топ-просмотрам**"
   ]
  },
  {
   "cell_type": "code",
   "execution_count": 5,
   "metadata": {
    "scrolled": true
   },
   "outputs": [],
   "source": [
    "# разбиение на holdout по времени\n",
    "train_start_date = df_show.start_time.min()# + datetime.timedelta(days = 4 * 7)\n",
    "split_date = df_show.start_time.max() - datetime.timedelta(days = 9 * 7)\n",
    "train = df_show[(df_show.start_time <= split_date) & (df_show.start_time >= train_start_date)].copy()\n",
    "val = df_show[df_show.start_time > split_date].copy()\n",
    "\n",
    "# сбор признаков и таргета по просмотрам\n",
    "train_top_views = get_features(train[train['tv_show_id'].isin(val['tv_show_id'].unique())])\n",
    "val_top_views = get_target(val)\n",
    "overall_top_movies = train_top_views.groupby(['tv_show_id'], as_index = False)['user_show_freq'].sum().sort_values(['user_show_freq'])['tv_show_id'][-5:].values\n",
    "overall_top_movies = overall_top_movies[::-1]"
   ]
  },
  {
   "cell_type": "code",
   "execution_count": 375,
   "metadata": {
    "scrolled": true
   },
   "outputs": [
    {
     "name": "stdout",
     "output_type": "stream",
     "text": [
      "MAP@5 = 0.32881\n"
     ]
    }
   ],
   "source": [
    "# проверка точности решения\n",
    "preds = []\n",
    "trues = []\n",
    "for user in train_top_views.user_id.unique():\n",
    "    \n",
    "    predict_n_movies = train_top_views[train_top_views.user_id == user]['tv_show_id'].values[:5]\n",
    "    actual_n_movies = val_top_views[val_top_views.user_id == user]['tv_show_id'].values[:5]\n",
    "    \n",
    "    if len(predict_n_movies) < 5:\n",
    "        predict_n_movies = list(predict_n_movies[:len(predict_n_movies)]) + list(overall_top_movies[:5 - len(predict_n_movies)])\n",
    "    \n",
    "    \n",
    "    preds.append(list(predict_n_movies))\n",
    "    trues.append(list(actual_n_movies))\n",
    "    \n",
    "score = np.round(mapk(trues, preds, k = 5), 5)\n",
    "print(f'MAP@{5} = {score}')"
   ]
  },
  {
   "cell_type": "markdown",
   "metadata": {},
   "source": [
    "**Предсказание по топ-всегда просмотрам**"
   ]
  },
  {
   "cell_type": "code",
   "execution_count": 380,
   "metadata": {},
   "outputs": [],
   "source": [
    "# данные о просмотрах\n",
    "df_top_views = get_features(df_show[df_show['tv_show_id'].isin(df_info_future['tv_show_id'].unique())])\n",
    "overall_top_movies = df_top_views.groupby(['tv_show_id'], as_index = False)['user_show_freq'].sum().sort_values(['user_show_freq'])['tv_show_id'][-5:].values[::-1]\n",
    "\n",
    "# прогноз на будущее\n",
    "submission_df = pd.read_csv('submission.csv')\n",
    "for index_row, row in submission_df.iterrows():\n",
    "    pred_n_movies = list(df_top_views[df_top_views.user_id == row['user_id']]['tv_show_id'].values[:5])\n",
    "    \n",
    "    if len(pred_n_movies) < 5:\n",
    "        pred_n_movies = list(pred_n_movies[:len(pred_n_movies)]) + list(overall_top_movies[:5 - len(pred_n_movies)])\n",
    "    \n",
    "    pred = ' '.join([str(int(x)) for x in pred_n_movies])\n",
    "    submission_df.loc[index_row, 'tv_show_id'] = pred\n",
    "    \n",
    "submission_df.to_csv('baseline_submission.csv', index = False)"
   ]
  }
 ],
 "metadata": {
  "kernelspec": {
   "display_name": "Python 3",
   "language": "python",
   "name": "python3"
  },
  "language_info": {
   "codemirror_mode": {
    "name": "ipython",
    "version": 3
   },
   "file_extension": ".py",
   "mimetype": "text/x-python",
   "name": "python",
   "nbconvert_exporter": "python",
   "pygments_lexer": "ipython3",
   "version": "3.7.6"
  }
 },
 "nbformat": 4,
 "nbformat_minor": 4
}
